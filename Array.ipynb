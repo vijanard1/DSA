{
 "cells": [
  {
   "cell_type": "markdown",
   "id": "2d2b22bc",
   "metadata": {},
   "source": [
    "# 1. First non repeating element in array"
   ]
  },
  {
   "cell_type": "code",
   "execution_count": 1,
   "id": "e1256869",
   "metadata": {},
   "outputs": [],
   "source": [
    "a = [1,1,1,2,3,3,2,2,2,1,4,5,6,5]"
   ]
  },
  {
   "cell_type": "code",
   "execution_count": 3,
   "id": "acddfdcb",
   "metadata": {},
   "outputs": [
    {
     "data": {
      "text/plain": [
       "{1, 2, 3, 4, 5, 6}"
      ]
     },
     "execution_count": 3,
     "metadata": {},
     "output_type": "execute_result"
    }
   ],
   "source": [
    "b = set(a)\n",
    "b"
   ]
  },
  {
   "cell_type": "code",
   "execution_count": 7,
   "id": "ae4268be",
   "metadata": {},
   "outputs": [
    {
     "name": "stdout",
     "output_type": "stream",
     "text": [
      "first non repeating element is \n",
      " 4\n"
     ]
    }
   ],
   "source": [
    "for i in b:\n",
    "    if(a.count(i) == 1):\n",
    "        print('first non repeating element is \\n',i)\n",
    "        break"
   ]
  },
  {
   "cell_type": "markdown",
   "id": "166bb239",
   "metadata": {},
   "source": [
    "# 2. Second minimum element"
   ]
  },
  {
   "cell_type": "markdown",
   "id": "4647930d",
   "metadata": {},
   "source": [
    "# 3. Merge 2 sorted arrays"
   ]
  },
  {
   "cell_type": "markdown",
   "id": "561c2dc3",
   "metadata": {},
   "source": [
    "# 4. Rearrange postive and negative valiues in an array"
   ]
  }
 ],
 "metadata": {
  "kernelspec": {
   "display_name": "Python 3 (ipykernel)",
   "language": "python",
   "name": "python3"
  },
  "language_info": {
   "codemirror_mode": {
    "name": "ipython",
    "version": 3
   },
   "file_extension": ".py",
   "mimetype": "text/x-python",
   "name": "python",
   "nbconvert_exporter": "python",
   "pygments_lexer": "ipython3",
   "version": "3.9.12"
  }
 },
 "nbformat": 4,
 "nbformat_minor": 5
}
